{
 "cells": [
  {
   "cell_type": "code",
   "execution_count": 1,
   "id": "b000adbe",
   "metadata": {},
   "outputs": [],
   "source": [
    "import numpy as np\n",
    "import pandas as pd \n",
    "import matplotlib.pyplot as plt\n",
    "import seaborn as sns\n",
    "import warnings\n",
    "warnings.filterwarnings(\"ignore\")"
   ]
  },
  {
   "cell_type": "code",
   "execution_count": 2,
   "id": "14c6ffa1",
   "metadata": {},
   "outputs": [],
   "source": [
    "meesho=pd.read_csv(r\"C:\\Users\\ak524\\OneDrive\\Desktop\\Messo_Data_Analysis\\meesho ForwardReports.csv\")"
   ]
  },
  {
   "cell_type": "code",
   "execution_count": 3,
   "id": "1ae02c0d",
   "metadata": {},
   "outputs": [
    {
     "data": {
      "text/html": [
       "<div>\n",
       "<style scoped>\n",
       "    .dataframe tbody tr th:only-of-type {\n",
       "        vertical-align: middle;\n",
       "    }\n",
       "\n",
       "    .dataframe tbody tr th {\n",
       "        vertical-align: top;\n",
       "    }\n",
       "\n",
       "    .dataframe thead th {\n",
       "        text-align: right;\n",
       "    }\n",
       "</style>\n",
       "<table border=\"1\" class=\"dataframe\">\n",
       "  <thead>\n",
       "    <tr style=\"text-align: right;\">\n",
       "      <th></th>\n",
       "      <th>order_date</th>\n",
       "      <th>sub_order_num</th>\n",
       "      <th>order_status</th>\n",
       "      <th>state</th>\n",
       "      <th>pin</th>\n",
       "      <th>gst_amount</th>\n",
       "      <th>meesho_price</th>\n",
       "      <th>shipping_charges_total</th>\n",
       "      <th>price</th>\n",
       "    </tr>\n",
       "  </thead>\n",
       "  <tbody>\n",
       "    <tr>\n",
       "      <th>0</th>\n",
       "      <td>2022-08-30</td>\n",
       "      <td>381809810413_1</td>\n",
       "      <td>Shipped</td>\n",
       "      <td>Jammu &amp; Kashmir</td>\n",
       "      <td>180006</td>\n",
       "      <td>66.68</td>\n",
       "      <td>1400</td>\n",
       "      <td>121</td>\n",
       "      <td>1521</td>\n",
       "    </tr>\n",
       "    <tr>\n",
       "      <th>1</th>\n",
       "      <td>2022-08-10</td>\n",
       "      <td>940712900368_1</td>\n",
       "      <td>rto</td>\n",
       "      <td>Uttar Pradesh</td>\n",
       "      <td>208014</td>\n",
       "      <td>69.58</td>\n",
       "      <td>1461</td>\n",
       "      <td>114</td>\n",
       "      <td>1575</td>\n",
       "    </tr>\n",
       "    <tr>\n",
       "      <th>2</th>\n",
       "      <td>2022-08-03</td>\n",
       "      <td>322259568161_1</td>\n",
       "      <td>Delivered</td>\n",
       "      <td>Telangana</td>\n",
       "      <td>509001</td>\n",
       "      <td>64.30</td>\n",
       "      <td>1350</td>\n",
       "      <td>108</td>\n",
       "      <td>1440</td>\n",
       "    </tr>\n",
       "    <tr>\n",
       "      <th>3</th>\n",
       "      <td>2022-08-27</td>\n",
       "      <td>475133679575_1</td>\n",
       "      <td>Cancelled</td>\n",
       "      <td>Jammu &amp; Kashmir</td>\n",
       "      <td>182101</td>\n",
       "      <td>98.96</td>\n",
       "      <td>2078</td>\n",
       "      <td>0</td>\n",
       "      <td>2078</td>\n",
       "    </tr>\n",
       "    <tr>\n",
       "      <th>4</th>\n",
       "      <td>2022-08-04</td>\n",
       "      <td>493966375185_1</td>\n",
       "      <td>rto</td>\n",
       "      <td>Odisha</td>\n",
       "      <td>760001</td>\n",
       "      <td>64.30</td>\n",
       "      <td>1350</td>\n",
       "      <td>108</td>\n",
       "      <td>1458</td>\n",
       "    </tr>\n",
       "  </tbody>\n",
       "</table>\n",
       "</div>"
      ],
      "text/plain": [
       "   order_date   sub_order_num order_status            state     pin  \\\n",
       "0  2022-08-30  381809810413_1      Shipped  Jammu & Kashmir  180006   \n",
       "1  2022-08-10  940712900368_1          rto    Uttar Pradesh  208014   \n",
       "2  2022-08-03  322259568161_1    Delivered        Telangana  509001   \n",
       "3  2022-08-27  475133679575_1    Cancelled  Jammu & Kashmir  182101   \n",
       "4  2022-08-04  493966375185_1          rto           Odisha  760001   \n",
       "\n",
       "   gst_amount  meesho_price  shipping_charges_total  price  \n",
       "0       66.68          1400                     121   1521  \n",
       "1       69.58          1461                     114   1575  \n",
       "2       64.30          1350                     108   1440  \n",
       "3       98.96          2078                       0   2078  \n",
       "4       64.30          1350                     108   1458  "
      ]
     },
     "execution_count": 3,
     "metadata": {},
     "output_type": "execute_result"
    }
   ],
   "source": [
    "meesho.head()"
   ]
  },
  {
   "cell_type": "code",
   "execution_count": 4,
   "id": "c9e290e9",
   "metadata": {},
   "outputs": [
    {
     "data": {
      "text/html": [
       "<div>\n",
       "<style scoped>\n",
       "    .dataframe tbody tr th:only-of-type {\n",
       "        vertical-align: middle;\n",
       "    }\n",
       "\n",
       "    .dataframe tbody tr th {\n",
       "        vertical-align: top;\n",
       "    }\n",
       "\n",
       "    .dataframe thead th {\n",
       "        text-align: right;\n",
       "    }\n",
       "</style>\n",
       "<table border=\"1\" class=\"dataframe\">\n",
       "  <thead>\n",
       "    <tr style=\"text-align: right;\">\n",
       "      <th></th>\n",
       "      <th>order_date</th>\n",
       "      <th>sub_order_num</th>\n",
       "      <th>order_status</th>\n",
       "      <th>state</th>\n",
       "      <th>pin</th>\n",
       "      <th>gst_amount</th>\n",
       "      <th>meesho_price</th>\n",
       "      <th>shipping_charges_total</th>\n",
       "      <th>price</th>\n",
       "    </tr>\n",
       "  </thead>\n",
       "  <tbody>\n",
       "    <tr>\n",
       "      <th>133</th>\n",
       "      <td>2022-08-30</td>\n",
       "      <td>271046524562_1</td>\n",
       "      <td>Shipped</td>\n",
       "      <td>Delhi</td>\n",
       "      <td>110009</td>\n",
       "      <td>66.68</td>\n",
       "      <td>1400</td>\n",
       "      <td>110</td>\n",
       "      <td>1510</td>\n",
       "    </tr>\n",
       "    <tr>\n",
       "      <th>134</th>\n",
       "      <td>2022-08-15</td>\n",
       "      <td>346130315989_1</td>\n",
       "      <td>Return</td>\n",
       "      <td>Andhra Pradesh</td>\n",
       "      <td>532005</td>\n",
       "      <td>64.30</td>\n",
       "      <td>1350</td>\n",
       "      <td>114</td>\n",
       "      <td>1464</td>\n",
       "    </tr>\n",
       "    <tr>\n",
       "      <th>135</th>\n",
       "      <td>2022-08-11</td>\n",
       "      <td>312073496064_1</td>\n",
       "      <td>rto</td>\n",
       "      <td>Telangana</td>\n",
       "      <td>500052</td>\n",
       "      <td>66.68</td>\n",
       "      <td>1400</td>\n",
       "      <td>110</td>\n",
       "      <td>1525</td>\n",
       "    </tr>\n",
       "    <tr>\n",
       "      <th>136</th>\n",
       "      <td>2022-08-02</td>\n",
       "      <td>916538974169_1</td>\n",
       "      <td>rto</td>\n",
       "      <td>Assam</td>\n",
       "      <td>782435</td>\n",
       "      <td>88.62</td>\n",
       "      <td>1861</td>\n",
       "      <td>0</td>\n",
       "      <td>1861</td>\n",
       "    </tr>\n",
       "    <tr>\n",
       "      <th>137</th>\n",
       "      <td>2022-08-07</td>\n",
       "      <td>436163379734_1</td>\n",
       "      <td>Delivered</td>\n",
       "      <td>MAHARASHTRA</td>\n",
       "      <td>421204</td>\n",
       "      <td>51.14</td>\n",
       "      <td>1074</td>\n",
       "      <td>0</td>\n",
       "      <td>1052</td>\n",
       "    </tr>\n",
       "  </tbody>\n",
       "</table>\n",
       "</div>"
      ],
      "text/plain": [
       "     order_date   sub_order_num order_status           state     pin  \\\n",
       "133  2022-08-30  271046524562_1      Shipped           Delhi  110009   \n",
       "134  2022-08-15  346130315989_1       Return  Andhra Pradesh  532005   \n",
       "135  2022-08-11  312073496064_1          rto       Telangana  500052   \n",
       "136  2022-08-02  916538974169_1          rto           Assam  782435   \n",
       "137  2022-08-07  436163379734_1    Delivered     MAHARASHTRA  421204   \n",
       "\n",
       "     gst_amount  meesho_price  shipping_charges_total  price  \n",
       "133       66.68          1400                     110   1510  \n",
       "134       64.30          1350                     114   1464  \n",
       "135       66.68          1400                     110   1525  \n",
       "136       88.62          1861                       0   1861  \n",
       "137       51.14          1074                       0   1052  "
      ]
     },
     "execution_count": 4,
     "metadata": {},
     "output_type": "execute_result"
    }
   ],
   "source": [
    "meesho.tail()"
   ]
  },
  {
   "cell_type": "code",
   "execution_count": 5,
   "id": "4ac28340",
   "metadata": {},
   "outputs": [
    {
     "data": {
      "text/plain": [
       "order_date                 object\n",
       "sub_order_num              object\n",
       "order_status               object\n",
       "state                      object\n",
       "pin                         int64\n",
       "gst_amount                float64\n",
       "meesho_price                int64\n",
       "shipping_charges_total      int64\n",
       "price                       int64\n",
       "dtype: object"
      ]
     },
     "execution_count": 5,
     "metadata": {},
     "output_type": "execute_result"
    }
   ],
   "source": [
    "meesho.dtypes"
   ]
  },
  {
   "cell_type": "code",
   "execution_count": 17,
   "id": "1e8b99fe",
   "metadata": {},
   "outputs": [
    {
     "name": "stdout",
     "output_type": "stream",
     "text": [
      "Rows : 138\n",
      "Columns: 9\n"
     ]
    },
    {
     "data": {
      "text/plain": [
       "(None, None)"
      ]
     },
     "execution_count": 17,
     "metadata": {},
     "output_type": "execute_result"
    }
   ],
   "source": [
    "Rows,Columns=meesho.shape\n",
    "print(\"Rows :\",Rows),print(\"Columns:\",Columns)"
   ]
  },
  {
   "cell_type": "code",
   "execution_count": 6,
   "id": "93408fad",
   "metadata": {},
   "outputs": [
    {
     "name": "stdout",
     "output_type": "stream",
     "text": [
      "<class 'pandas.core.frame.DataFrame'>\n",
      "RangeIndex: 138 entries, 0 to 137\n",
      "Data columns (total 9 columns):\n",
      " #   Column                  Non-Null Count  Dtype  \n",
      "---  ------                  --------------  -----  \n",
      " 0   order_date              138 non-null    object \n",
      " 1   sub_order_num           138 non-null    object \n",
      " 2   order_status            138 non-null    object \n",
      " 3   state                   138 non-null    object \n",
      " 4   pin                     138 non-null    int64  \n",
      " 5   gst_amount              138 non-null    float64\n",
      " 6   meesho_price            138 non-null    int64  \n",
      " 7   shipping_charges_total  138 non-null    int64  \n",
      " 8   price                   138 non-null    int64  \n",
      "dtypes: float64(1), int64(4), object(4)\n",
      "memory usage: 9.8+ KB\n"
     ]
    }
   ],
   "source": [
    "meesho.info()"
   ]
  },
  {
   "cell_type": "markdown",
   "id": "3c9abc39",
   "metadata": {},
   "source": [
    "# Summary statistics for numerical columns"
   ]
  },
  {
   "cell_type": "code",
   "execution_count": 18,
   "id": "5dfe5681",
   "metadata": {},
   "outputs": [
    {
     "data": {
      "text/html": [
       "<div>\n",
       "<style scoped>\n",
       "    .dataframe tbody tr th:only-of-type {\n",
       "        vertical-align: middle;\n",
       "    }\n",
       "\n",
       "    .dataframe tbody tr th {\n",
       "        vertical-align: top;\n",
       "    }\n",
       "\n",
       "    .dataframe thead th {\n",
       "        text-align: right;\n",
       "    }\n",
       "</style>\n",
       "<table border=\"1\" class=\"dataframe\">\n",
       "  <thead>\n",
       "    <tr style=\"text-align: right;\">\n",
       "      <th></th>\n",
       "      <th>pin</th>\n",
       "      <th>gst_amount</th>\n",
       "      <th>meesho_price</th>\n",
       "      <th>shipping_charges_total</th>\n",
       "      <th>price</th>\n",
       "    </tr>\n",
       "  </thead>\n",
       "  <tbody>\n",
       "    <tr>\n",
       "      <th>count</th>\n",
       "      <td>138.000000</td>\n",
       "      <td>138.000000</td>\n",
       "      <td>138.000000</td>\n",
       "      <td>138.000000</td>\n",
       "      <td>138.000000</td>\n",
       "    </tr>\n",
       "    <tr>\n",
       "      <th>mean</th>\n",
       "      <td>477676.594203</td>\n",
       "      <td>62.015507</td>\n",
       "      <td>1292.289855</td>\n",
       "      <td>69.673913</td>\n",
       "      <td>1358.572464</td>\n",
       "    </tr>\n",
       "    <tr>\n",
       "      <th>std</th>\n",
       "      <td>207795.595378</td>\n",
       "      <td>20.974350</td>\n",
       "      <td>440.464241</td>\n",
       "      <td>54.120056</td>\n",
       "      <td>460.108760</td>\n",
       "    </tr>\n",
       "    <tr>\n",
       "      <th>min</th>\n",
       "      <td>110007.000000</td>\n",
       "      <td>23.480000</td>\n",
       "      <td>493.000000</td>\n",
       "      <td>0.000000</td>\n",
       "      <td>480.000000</td>\n",
       "    </tr>\n",
       "    <tr>\n",
       "      <th>25%</th>\n",
       "      <td>316501.250000</td>\n",
       "      <td>62.440000</td>\n",
       "      <td>1302.750000</td>\n",
       "      <td>0.000000</td>\n",
       "      <td>1414.000000</td>\n",
       "    </tr>\n",
       "    <tr>\n",
       "      <th>50%</th>\n",
       "      <td>497845.500000</td>\n",
       "      <td>64.300000</td>\n",
       "      <td>1350.000000</td>\n",
       "      <td>108.000000</td>\n",
       "      <td>1464.000000</td>\n",
       "    </tr>\n",
       "    <tr>\n",
       "      <th>75%</th>\n",
       "      <td>670991.750000</td>\n",
       "      <td>71.405000</td>\n",
       "      <td>1491.500000</td>\n",
       "      <td>114.000000</td>\n",
       "      <td>1519.750000</td>\n",
       "    </tr>\n",
       "    <tr>\n",
       "      <th>max</th>\n",
       "      <td>848504.000000</td>\n",
       "      <td>116.960000</td>\n",
       "      <td>2456.000000</td>\n",
       "      <td>148.000000</td>\n",
       "      <td>2456.000000</td>\n",
       "    </tr>\n",
       "  </tbody>\n",
       "</table>\n",
       "</div>"
      ],
      "text/plain": [
       "                 pin  gst_amount  meesho_price  shipping_charges_total  \\\n",
       "count     138.000000  138.000000    138.000000              138.000000   \n",
       "mean   477676.594203   62.015507   1292.289855               69.673913   \n",
       "std    207795.595378   20.974350    440.464241               54.120056   \n",
       "min    110007.000000   23.480000    493.000000                0.000000   \n",
       "25%    316501.250000   62.440000   1302.750000                0.000000   \n",
       "50%    497845.500000   64.300000   1350.000000              108.000000   \n",
       "75%    670991.750000   71.405000   1491.500000              114.000000   \n",
       "max    848504.000000  116.960000   2456.000000              148.000000   \n",
       "\n",
       "             price  \n",
       "count   138.000000  \n",
       "mean   1358.572464  \n",
       "std     460.108760  \n",
       "min     480.000000  \n",
       "25%    1414.000000  \n",
       "50%    1464.000000  \n",
       "75%    1519.750000  \n",
       "max    2456.000000  "
      ]
     },
     "execution_count": 18,
     "metadata": {},
     "output_type": "execute_result"
    }
   ],
   "source": [
    "meesho.describe()"
   ]
  },
  {
   "cell_type": "code",
   "execution_count": 8,
   "id": "7e0d398c",
   "metadata": {},
   "outputs": [
    {
     "data": {
      "text/plain": [
       "order_date                0\n",
       "sub_order_num             0\n",
       "order_status              0\n",
       "state                     0\n",
       "pin                       0\n",
       "gst_amount                0\n",
       "meesho_price              0\n",
       "shipping_charges_total    0\n",
       "price                     0\n",
       "dtype: int64"
      ]
     },
     "execution_count": 8,
     "metadata": {},
     "output_type": "execute_result"
    }
   ],
   "source": [
    "meesho.isnull().sum()"
   ]
  },
  {
   "cell_type": "code",
   "execution_count": 9,
   "id": "453e9d6a",
   "metadata": {},
   "outputs": [
    {
     "data": {
      "text/plain": [
       "Index(['order_date', 'sub_order_num', 'order_status', 'state', 'pin',\n",
       "       'gst_amount', 'meesho_price', 'shipping_charges_total', 'price'],\n",
       "      dtype='object')"
      ]
     },
     "execution_count": 9,
     "metadata": {},
     "output_type": "execute_result"
    }
   ],
   "source": [
    "meesho.columns"
   ]
  },
  {
   "cell_type": "markdown",
   "id": "cb331c7d",
   "metadata": {},
   "source": [
    "# Convert 'order_date' column to datetime format"
   ]
  },
  {
   "cell_type": "code",
   "execution_count": 43,
   "id": "9a5714fa",
   "metadata": {},
   "outputs": [],
   "source": [
    "meesho['order_date'] = pd.to_datetime(meesho['order_date'])"
   ]
  },
  {
   "cell_type": "markdown",
   "id": "705a927a",
   "metadata": {},
   "source": [
    "# Extract year, month, day, and day of week from 'order_date'"
   ]
  },
  {
   "cell_type": "code",
   "execution_count": 56,
   "id": "7f6dca2a",
   "metadata": {},
   "outputs": [],
   "source": [
    "meesho['year'] = meesho['order_date'].dt.year\n",
    "meesho['month'] = meesho['order_date'].dt.month\n",
    "meesho['day'] = meesho['order_date'].dt.day\n",
    "meesho['day_of_week'] = meesho['order_date'].dt.dayofweek\n"
   ]
  },
  {
   "cell_type": "markdown",
   "id": "aabdcb21",
   "metadata": {},
   "source": [
    "# Count orders by year, month, and day of week"
   ]
  },
  {
   "cell_type": "code",
   "execution_count": 57,
   "id": "36b797ea",
   "metadata": {},
   "outputs": [],
   "source": [
    "orders_by_year = meesho['year'].value_counts().sort_index()\n",
    "orders_by_month = meesho['month'].value_counts().sort_index()\n",
    "orders_by_day = meesho['day'].value_counts().sort_index()\n",
    "orders_by_day_of_week = meesho['day_of_week'].value_counts().sort_index()"
   ]
  },
  {
   "cell_type": "markdown",
   "id": "6fb6c362",
   "metadata": {},
   "source": [
    "# Combine all insights into one DataFrame"
   ]
  },
  {
   "cell_type": "code",
   "execution_count": 62,
   "id": "b7483bfe",
   "metadata": {},
   "outputs": [
    {
     "name": "stdout",
     "output_type": "stream",
     "text": [
      "Orders by Year:\n"
     ]
    },
    {
     "data": {
      "text/html": [
       "<div>\n",
       "<style scoped>\n",
       "    .dataframe tbody tr th:only-of-type {\n",
       "        vertical-align: middle;\n",
       "    }\n",
       "\n",
       "    .dataframe tbody tr th {\n",
       "        vertical-align: top;\n",
       "    }\n",
       "\n",
       "    .dataframe thead th {\n",
       "        text-align: right;\n",
       "    }\n",
       "</style>\n",
       "<table border=\"1\" class=\"dataframe\">\n",
       "  <thead>\n",
       "    <tr style=\"text-align: right;\">\n",
       "      <th></th>\n",
       "      <th>count</th>\n",
       "    </tr>\n",
       "    <tr>\n",
       "      <th>year</th>\n",
       "      <th></th>\n",
       "    </tr>\n",
       "  </thead>\n",
       "  <tbody>\n",
       "    <tr>\n",
       "      <th>2022</th>\n",
       "      <td>138</td>\n",
       "    </tr>\n",
       "  </tbody>\n",
       "</table>\n",
       "</div>"
      ],
      "text/plain": [
       "      count\n",
       "year       \n",
       "2022    138"
      ]
     },
     "execution_count": 62,
     "metadata": {},
     "output_type": "execute_result"
    }
   ],
   "source": [
    "print(\"Orders by Year:\")\n",
    "pd.DataFrame(orders_by_year)"
   ]
  },
  {
   "cell_type": "code",
   "execution_count": 63,
   "id": "89f426cf",
   "metadata": {},
   "outputs": [
    {
     "name": "stdout",
     "output_type": "stream",
     "text": [
      "Orders by Month:\n"
     ]
    },
    {
     "data": {
      "text/html": [
       "<div>\n",
       "<style scoped>\n",
       "    .dataframe tbody tr th:only-of-type {\n",
       "        vertical-align: middle;\n",
       "    }\n",
       "\n",
       "    .dataframe tbody tr th {\n",
       "        vertical-align: top;\n",
       "    }\n",
       "\n",
       "    .dataframe thead th {\n",
       "        text-align: right;\n",
       "    }\n",
       "</style>\n",
       "<table border=\"1\" class=\"dataframe\">\n",
       "  <thead>\n",
       "    <tr style=\"text-align: right;\">\n",
       "      <th></th>\n",
       "      <th>count</th>\n",
       "    </tr>\n",
       "    <tr>\n",
       "      <th>month</th>\n",
       "      <th></th>\n",
       "    </tr>\n",
       "  </thead>\n",
       "  <tbody>\n",
       "    <tr>\n",
       "      <th>7</th>\n",
       "      <td>6</td>\n",
       "    </tr>\n",
       "    <tr>\n",
       "      <th>8</th>\n",
       "      <td>132</td>\n",
       "    </tr>\n",
       "  </tbody>\n",
       "</table>\n",
       "</div>"
      ],
      "text/plain": [
       "       count\n",
       "month       \n",
       "7          6\n",
       "8        132"
      ]
     },
     "execution_count": 63,
     "metadata": {},
     "output_type": "execute_result"
    }
   ],
   "source": [
    "print(\"Orders by Month:\")\n",
    "pd.DataFrame(orders_by_month)"
   ]
  },
  {
   "cell_type": "code",
   "execution_count": 64,
   "id": "3129b8d4",
   "metadata": {},
   "outputs": [
    {
     "name": "stdout",
     "output_type": "stream",
     "text": [
      "Orders by Day:\n"
     ]
    },
    {
     "data": {
      "text/html": [
       "<div>\n",
       "<style scoped>\n",
       "    .dataframe tbody tr th:only-of-type {\n",
       "        vertical-align: middle;\n",
       "    }\n",
       "\n",
       "    .dataframe tbody tr th {\n",
       "        vertical-align: top;\n",
       "    }\n",
       "\n",
       "    .dataframe thead th {\n",
       "        text-align: right;\n",
       "    }\n",
       "</style>\n",
       "<table border=\"1\" class=\"dataframe\">\n",
       "  <thead>\n",
       "    <tr style=\"text-align: right;\">\n",
       "      <th></th>\n",
       "      <th>count</th>\n",
       "    </tr>\n",
       "    <tr>\n",
       "      <th>day</th>\n",
       "      <th></th>\n",
       "    </tr>\n",
       "  </thead>\n",
       "  <tbody>\n",
       "    <tr>\n",
       "      <th>1</th>\n",
       "      <td>1</td>\n",
       "    </tr>\n",
       "    <tr>\n",
       "      <th>2</th>\n",
       "      <td>5</td>\n",
       "    </tr>\n",
       "    <tr>\n",
       "      <th>3</th>\n",
       "      <td>2</td>\n",
       "    </tr>\n",
       "    <tr>\n",
       "      <th>4</th>\n",
       "      <td>5</td>\n",
       "    </tr>\n",
       "    <tr>\n",
       "      <th>5</th>\n",
       "      <td>2</td>\n",
       "    </tr>\n",
       "    <tr>\n",
       "      <th>6</th>\n",
       "      <td>3</td>\n",
       "    </tr>\n",
       "    <tr>\n",
       "      <th>7</th>\n",
       "      <td>4</td>\n",
       "    </tr>\n",
       "    <tr>\n",
       "      <th>8</th>\n",
       "      <td>4</td>\n",
       "    </tr>\n",
       "    <tr>\n",
       "      <th>9</th>\n",
       "      <td>5</td>\n",
       "    </tr>\n",
       "    <tr>\n",
       "      <th>10</th>\n",
       "      <td>4</td>\n",
       "    </tr>\n",
       "    <tr>\n",
       "      <th>11</th>\n",
       "      <td>3</td>\n",
       "    </tr>\n",
       "    <tr>\n",
       "      <th>12</th>\n",
       "      <td>3</td>\n",
       "    </tr>\n",
       "    <tr>\n",
       "      <th>13</th>\n",
       "      <td>6</td>\n",
       "    </tr>\n",
       "    <tr>\n",
       "      <th>14</th>\n",
       "      <td>3</td>\n",
       "    </tr>\n",
       "    <tr>\n",
       "      <th>15</th>\n",
       "      <td>8</td>\n",
       "    </tr>\n",
       "    <tr>\n",
       "      <th>16</th>\n",
       "      <td>2</td>\n",
       "    </tr>\n",
       "    <tr>\n",
       "      <th>18</th>\n",
       "      <td>3</td>\n",
       "    </tr>\n",
       "    <tr>\n",
       "      <th>19</th>\n",
       "      <td>1</td>\n",
       "    </tr>\n",
       "    <tr>\n",
       "      <th>20</th>\n",
       "      <td>3</td>\n",
       "    </tr>\n",
       "    <tr>\n",
       "      <th>21</th>\n",
       "      <td>6</td>\n",
       "    </tr>\n",
       "    <tr>\n",
       "      <th>22</th>\n",
       "      <td>8</td>\n",
       "    </tr>\n",
       "    <tr>\n",
       "      <th>23</th>\n",
       "      <td>3</td>\n",
       "    </tr>\n",
       "    <tr>\n",
       "      <th>24</th>\n",
       "      <td>3</td>\n",
       "    </tr>\n",
       "    <tr>\n",
       "      <th>25</th>\n",
       "      <td>14</td>\n",
       "    </tr>\n",
       "    <tr>\n",
       "      <th>26</th>\n",
       "      <td>7</td>\n",
       "    </tr>\n",
       "    <tr>\n",
       "      <th>27</th>\n",
       "      <td>7</td>\n",
       "    </tr>\n",
       "    <tr>\n",
       "      <th>28</th>\n",
       "      <td>4</td>\n",
       "    </tr>\n",
       "    <tr>\n",
       "      <th>29</th>\n",
       "      <td>6</td>\n",
       "    </tr>\n",
       "    <tr>\n",
       "      <th>30</th>\n",
       "      <td>10</td>\n",
       "    </tr>\n",
       "    <tr>\n",
       "      <th>31</th>\n",
       "      <td>3</td>\n",
       "    </tr>\n",
       "  </tbody>\n",
       "</table>\n",
       "</div>"
      ],
      "text/plain": [
       "     count\n",
       "day       \n",
       "1        1\n",
       "2        5\n",
       "3        2\n",
       "4        5\n",
       "5        2\n",
       "6        3\n",
       "7        4\n",
       "8        4\n",
       "9        5\n",
       "10       4\n",
       "11       3\n",
       "12       3\n",
       "13       6\n",
       "14       3\n",
       "15       8\n",
       "16       2\n",
       "18       3\n",
       "19       1\n",
       "20       3\n",
       "21       6\n",
       "22       8\n",
       "23       3\n",
       "24       3\n",
       "25      14\n",
       "26       7\n",
       "27       7\n",
       "28       4\n",
       "29       6\n",
       "30      10\n",
       "31       3"
      ]
     },
     "execution_count": 64,
     "metadata": {},
     "output_type": "execute_result"
    }
   ],
   "source": [
    "print(\"Orders by Day:\")\n",
    "pd.DataFrame(orders_by_day)"
   ]
  },
  {
   "cell_type": "code",
   "execution_count": 65,
   "id": "77b67d77",
   "metadata": {},
   "outputs": [
    {
     "name": "stdout",
     "output_type": "stream",
     "text": [
      "Orders by Day of Week:\n"
     ]
    },
    {
     "data": {
      "text/html": [
       "<div>\n",
       "<style scoped>\n",
       "    .dataframe tbody tr th:only-of-type {\n",
       "        vertical-align: middle;\n",
       "    }\n",
       "\n",
       "    .dataframe tbody tr th {\n",
       "        vertical-align: top;\n",
       "    }\n",
       "\n",
       "    .dataframe thead th {\n",
       "        text-align: right;\n",
       "    }\n",
       "</style>\n",
       "<table border=\"1\" class=\"dataframe\">\n",
       "  <thead>\n",
       "    <tr style=\"text-align: right;\">\n",
       "      <th></th>\n",
       "      <th>count</th>\n",
       "    </tr>\n",
       "    <tr>\n",
       "      <th>day_of_week</th>\n",
       "      <th></th>\n",
       "    </tr>\n",
       "  </thead>\n",
       "  <tbody>\n",
       "    <tr>\n",
       "      <th>0</th>\n",
       "      <td>24</td>\n",
       "    </tr>\n",
       "    <tr>\n",
       "      <th>1</th>\n",
       "      <td>24</td>\n",
       "    </tr>\n",
       "    <tr>\n",
       "      <th>2</th>\n",
       "      <td>10</td>\n",
       "    </tr>\n",
       "    <tr>\n",
       "      <th>3</th>\n",
       "      <td>25</td>\n",
       "    </tr>\n",
       "    <tr>\n",
       "      <th>4</th>\n",
       "      <td>16</td>\n",
       "    </tr>\n",
       "    <tr>\n",
       "      <th>5</th>\n",
       "      <td>20</td>\n",
       "    </tr>\n",
       "    <tr>\n",
       "      <th>6</th>\n",
       "      <td>19</td>\n",
       "    </tr>\n",
       "  </tbody>\n",
       "</table>\n",
       "</div>"
      ],
      "text/plain": [
       "             count\n",
       "day_of_week       \n",
       "0               24\n",
       "1               24\n",
       "2               10\n",
       "3               25\n",
       "4               16\n",
       "5               20\n",
       "6               19"
      ]
     },
     "execution_count": 65,
     "metadata": {},
     "output_type": "execute_result"
    }
   ],
   "source": [
    "print(\"Orders by Day of Week:\")\n",
    "pd.DataFrame(orders_by_day_of_week)"
   ]
  },
  {
   "cell_type": "markdown",
   "id": "0d31a9b0",
   "metadata": {},
   "source": [
    "# Check for unique sub_order_num count"
   ]
  },
  {
   "cell_type": "code",
   "execution_count": 48,
   "id": "5bd1bdbc",
   "metadata": {},
   "outputs": [
    {
     "name": "stdout",
     "output_type": "stream",
     "text": [
      "Unique Sub Order Count: 138\n"
     ]
    }
   ],
   "source": [
    "unique_sub_orders = meesho['sub_order_num'].nunique()\n",
    "print(\"Unique Sub Order Count:\", unique_sub_orders)"
   ]
  },
  {
   "cell_type": "markdown",
   "id": "33593f27",
   "metadata": {},
   "source": [
    "# Check for the most frequent sub_order_num"
   ]
  },
  {
   "cell_type": "code",
   "execution_count": 66,
   "id": "ab0d9703",
   "metadata": {},
   "outputs": [
    {
     "name": "stdout",
     "output_type": "stream",
     "text": [
      "Most Frequent Sub Order Number: 381809810413_1\n"
     ]
    }
   ],
   "source": [
    "most_frequent_sub_order = meesho['sub_order_num'].value_counts().idxmax()\n",
    "print(\"Most Frequent Sub Order Number:\", most_frequent_sub_order)"
   ]
  },
  {
   "cell_type": "markdown",
   "id": "c5350ef1",
   "metadata": {},
   "source": [
    "# Proportion of each order status"
   ]
  },
  {
   "cell_type": "code",
   "execution_count": 71,
   "id": "88620863",
   "metadata": {},
   "outputs": [
    {
     "name": "stdout",
     "output_type": "stream",
     "text": [
      "Proportion of Order Status:\n"
     ]
    },
    {
     "data": {
      "text/html": [
       "<div>\n",
       "<style scoped>\n",
       "    .dataframe tbody tr th:only-of-type {\n",
       "        vertical-align: middle;\n",
       "    }\n",
       "\n",
       "    .dataframe tbody tr th {\n",
       "        vertical-align: top;\n",
       "    }\n",
       "\n",
       "    .dataframe thead th {\n",
       "        text-align: right;\n",
       "    }\n",
       "</style>\n",
       "<table border=\"1\" class=\"dataframe\">\n",
       "  <thead>\n",
       "    <tr style=\"text-align: right;\">\n",
       "      <th></th>\n",
       "      <th>proportion</th>\n",
       "    </tr>\n",
       "    <tr>\n",
       "      <th>order_status</th>\n",
       "      <th></th>\n",
       "    </tr>\n",
       "  </thead>\n",
       "  <tbody>\n",
       "    <tr>\n",
       "      <th>Delivered</th>\n",
       "      <td>0.36</td>\n",
       "    </tr>\n",
       "    <tr>\n",
       "      <th>Return</th>\n",
       "      <td>0.25</td>\n",
       "    </tr>\n",
       "    <tr>\n",
       "      <th>Shipped</th>\n",
       "      <td>0.19</td>\n",
       "    </tr>\n",
       "    <tr>\n",
       "      <th>rto</th>\n",
       "      <td>0.16</td>\n",
       "    </tr>\n",
       "    <tr>\n",
       "      <th>Cancelled</th>\n",
       "      <td>0.03</td>\n",
       "    </tr>\n",
       "    <tr>\n",
       "      <th>Exchange</th>\n",
       "      <td>0.01</td>\n",
       "    </tr>\n",
       "  </tbody>\n",
       "</table>\n",
       "</div>"
      ],
      "text/plain": [
       "             proportion\n",
       "order_status           \n",
       "Delivered          0.36\n",
       "Return             0.25\n",
       "Shipped            0.19\n",
       "rto                0.16\n",
       "Cancelled          0.03\n",
       "Exchange           0.01"
      ]
     },
     "execution_count": 71,
     "metadata": {},
     "output_type": "execute_result"
    }
   ],
   "source": [
    "order_status_proportion = meesho['order_status'].value_counts(normalize=True)\n",
    "print(\"Proportion of Order Status:\")\n",
    "formatted_order_status_proportion = order_status_proportion.apply(lambda x: '{:.2f}'.format(x))\n",
    "pd.DataFrame(formatted_order_status_proportion)"
   ]
  },
  {
   "cell_type": "markdown",
   "id": "768dd8dc",
   "metadata": {},
   "source": [
    "# Most frequent PIN codes"
   ]
  },
  {
   "cell_type": "code",
   "execution_count": 72,
   "id": "bc830fda",
   "metadata": {},
   "outputs": [
    {
     "name": "stdout",
     "output_type": "stream",
     "text": [
      "Most Frequent PIN Codes:\n"
     ]
    },
    {
     "data": {
      "text/html": [
       "<div>\n",
       "<style scoped>\n",
       "    .dataframe tbody tr th:only-of-type {\n",
       "        vertical-align: middle;\n",
       "    }\n",
       "\n",
       "    .dataframe tbody tr th {\n",
       "        vertical-align: top;\n",
       "    }\n",
       "\n",
       "    .dataframe thead th {\n",
       "        text-align: right;\n",
       "    }\n",
       "</style>\n",
       "<table border=\"1\" class=\"dataframe\">\n",
       "  <thead>\n",
       "    <tr style=\"text-align: right;\">\n",
       "      <th></th>\n",
       "      <th>count</th>\n",
       "    </tr>\n",
       "    <tr>\n",
       "      <th>pin</th>\n",
       "      <th></th>\n",
       "    </tr>\n",
       "  </thead>\n",
       "  <tbody>\n",
       "    <tr>\n",
       "      <th>395010</th>\n",
       "      <td>3</td>\n",
       "    </tr>\n",
       "    <tr>\n",
       "      <th>382415</th>\n",
       "      <td>3</td>\n",
       "    </tr>\n",
       "    <tr>\n",
       "      <th>452002</th>\n",
       "      <td>2</td>\n",
       "    </tr>\n",
       "    <tr>\n",
       "      <th>400095</th>\n",
       "      <td>2</td>\n",
       "    </tr>\n",
       "    <tr>\n",
       "      <th>143101</th>\n",
       "      <td>2</td>\n",
       "    </tr>\n",
       "    <tr>\n",
       "      <th>711227</th>\n",
       "      <td>2</td>\n",
       "    </tr>\n",
       "    <tr>\n",
       "      <th>465674</th>\n",
       "      <td>2</td>\n",
       "    </tr>\n",
       "    <tr>\n",
       "      <th>560100</th>\n",
       "      <td>1</td>\n",
       "    </tr>\n",
       "    <tr>\n",
       "      <th>712235</th>\n",
       "      <td>1</td>\n",
       "    </tr>\n",
       "    <tr>\n",
       "      <th>612002</th>\n",
       "      <td>1</td>\n",
       "    </tr>\n",
       "  </tbody>\n",
       "</table>\n",
       "</div>"
      ],
      "text/plain": [
       "        count\n",
       "pin          \n",
       "395010      3\n",
       "382415      3\n",
       "452002      2\n",
       "400095      2\n",
       "143101      2\n",
       "711227      2\n",
       "465674      2\n",
       "560100      1\n",
       "712235      1\n",
       "612002      1"
      ]
     },
     "execution_count": 72,
     "metadata": {},
     "output_type": "execute_result"
    }
   ],
   "source": [
    "most_frequent_pins = meesho['pin'].value_counts().head(10)\n",
    "print(\"Most Frequent PIN Codes:\")\n",
    "pd.DataFrame(most_frequent_pins)\n"
   ]
  },
  {
   "cell_type": "markdown",
   "id": "4a1ce3cf",
   "metadata": {},
   "source": [
    "# Median Meesho price"
   ]
  },
  {
   "cell_type": "code",
   "execution_count": 73,
   "id": "3fe89a3c",
   "metadata": {},
   "outputs": [
    {
     "name": "stdout",
     "output_type": "stream",
     "text": [
      "Median Meesho Price: 1350.0\n"
     ]
    }
   ],
   "source": [
    "median_meesho_price = meesho['meesho_price'].median()\n",
    "print(\"Median Meesho Price:\", median_meesho_price)"
   ]
  },
  {
   "cell_type": "markdown",
   "id": "7287a801",
   "metadata": {},
   "source": [
    "# Average revenue per order"
   ]
  },
  {
   "cell_type": "code",
   "execution_count": 74,
   "id": "56507009",
   "metadata": {},
   "outputs": [
    {
     "name": "stdout",
     "output_type": "stream",
     "text": [
      "Average Revenue per Order: 1358.572463768116\n"
     ]
    }
   ],
   "source": [
    "avg_revenue_per_order = meesho['price'].mean()\n",
    "print(\"Average Revenue per Order:\", avg_revenue_per_order)"
   ]
  },
  {
   "cell_type": "markdown",
   "id": "a70ded43",
   "metadata": {},
   "source": [
    "# Summary statistics for Meesho prices"
   ]
  },
  {
   "cell_type": "code",
   "execution_count": 50,
   "id": "8a88bebc",
   "metadata": {},
   "outputs": [
    {
     "name": "stdout",
     "output_type": "stream",
     "text": [
      "Meesho Price Summary Statistics:\n"
     ]
    },
    {
     "data": {
      "text/html": [
       "<div>\n",
       "<style scoped>\n",
       "    .dataframe tbody tr th:only-of-type {\n",
       "        vertical-align: middle;\n",
       "    }\n",
       "\n",
       "    .dataframe tbody tr th {\n",
       "        vertical-align: top;\n",
       "    }\n",
       "\n",
       "    .dataframe thead th {\n",
       "        text-align: right;\n",
       "    }\n",
       "</style>\n",
       "<table border=\"1\" class=\"dataframe\">\n",
       "  <thead>\n",
       "    <tr style=\"text-align: right;\">\n",
       "      <th></th>\n",
       "      <th>meesho_price</th>\n",
       "    </tr>\n",
       "  </thead>\n",
       "  <tbody>\n",
       "    <tr>\n",
       "      <th>count</th>\n",
       "      <td>138.000000</td>\n",
       "    </tr>\n",
       "    <tr>\n",
       "      <th>mean</th>\n",
       "      <td>1292.289855</td>\n",
       "    </tr>\n",
       "    <tr>\n",
       "      <th>std</th>\n",
       "      <td>440.464241</td>\n",
       "    </tr>\n",
       "    <tr>\n",
       "      <th>min</th>\n",
       "      <td>493.000000</td>\n",
       "    </tr>\n",
       "    <tr>\n",
       "      <th>25%</th>\n",
       "      <td>1302.750000</td>\n",
       "    </tr>\n",
       "    <tr>\n",
       "      <th>50%</th>\n",
       "      <td>1350.000000</td>\n",
       "    </tr>\n",
       "    <tr>\n",
       "      <th>75%</th>\n",
       "      <td>1491.500000</td>\n",
       "    </tr>\n",
       "    <tr>\n",
       "      <th>max</th>\n",
       "      <td>2456.000000</td>\n",
       "    </tr>\n",
       "  </tbody>\n",
       "</table>\n",
       "</div>"
      ],
      "text/plain": [
       "       meesho_price\n",
       "count    138.000000\n",
       "mean    1292.289855\n",
       "std      440.464241\n",
       "min      493.000000\n",
       "25%     1302.750000\n",
       "50%     1350.000000\n",
       "75%     1491.500000\n",
       "max     2456.000000"
      ]
     },
     "execution_count": 50,
     "metadata": {},
     "output_type": "execute_result"
    }
   ],
   "source": [
    "meesho_price_stats = meesho['meesho_price'].describe()\n",
    "print(\"Meesho Price Summary Statistics:\")\n",
    "pd.DataFrame(meesho_price_stats)\n"
   ]
  },
  {
   "cell_type": "markdown",
   "id": "8a773014",
   "metadata": {},
   "source": [
    "# Total revenue"
   ]
  },
  {
   "cell_type": "code",
   "execution_count": 54,
   "id": "2519e3c1",
   "metadata": {},
   "outputs": [
    {
     "name": "stdout",
     "output_type": "stream",
     "text": [
      "Total Revenue: 187483\n"
     ]
    }
   ],
   "source": [
    "total_revenue = meesho['price'].sum()\n",
    "print(\"Total Revenue:\", total_revenue)"
   ]
  },
  {
   "cell_type": "markdown",
   "id": "b29943ed",
   "metadata": {},
   "source": [
    "# Count of unique values in each column"
   ]
  },
  {
   "cell_type": "code",
   "execution_count": 19,
   "id": "085b138c",
   "metadata": {},
   "outputs": [
    {
     "name": "stdout",
     "output_type": "stream",
     "text": [
      "order_date                 33\n",
      "sub_order_num             138\n",
      "order_status                6\n",
      "state                      32\n",
      "pin                       129\n",
      "gst_amount                 37\n",
      "meesho_price               37\n",
      "shipping_charges_total     20\n",
      "price                      68\n",
      "dtype: int64\n"
     ]
    }
   ],
   "source": [
    "unique=meesho.nunique()\n",
    "print(unique)"
   ]
  },
  {
   "cell_type": "markdown",
   "id": "869ee860",
   "metadata": {},
   "source": [
    "# Analysis of order status"
   ]
  },
  {
   "cell_type": "code",
   "execution_count": 20,
   "id": "f967ce90",
   "metadata": {},
   "outputs": [
    {
     "name": "stdout",
     "output_type": "stream",
     "text": [
      "order_status\n",
      "Delivered    50\n",
      "Return       34\n",
      "Shipped      26\n",
      "rto          22\n",
      "Cancelled     4\n",
      "Exchange      2\n",
      "Name: count, dtype: int64\n"
     ]
    }
   ],
   "source": [
    "order_status_counts = meesho['order_status'].value_counts()\n",
    "print(order_status_counts)"
   ]
  },
  {
   "cell_type": "markdown",
   "id": "4d28de0b",
   "metadata": {},
   "source": [
    "# Pie chart for order status distribution"
   ]
  },
  {
   "cell_type": "code",
   "execution_count": 52,
   "id": "ca004198",
   "metadata": {},
   "outputs": [
    {
     "data": {
      "image/png": "[encoded data removed]",
      "text/plain": [
       "<Figure size 800x600 with 1 Axes>"
      ]
     },
     "metadata": {},
     "output_type": "display_data"
    }
   ],
   "source": [
    "plt.figure(figsize=(8, 6))\n",
    "order_status_counts.plot(kind='pie', autopct='%1.1f%%', startangle=140)\n",
    "plt.title('Distribution of Order Status')\n",
    "plt.ylabel('')\n",
    "plt.axis('equal')\n",
    "plt.show()"
   ]
  },
  {
   "cell_type": "markdown",
   "id": "37d3035b",
   "metadata": {},
   "source": [
    "# Analysis of state-wise orders"
   ]
  },
  {
   "cell_type": "code",
   "execution_count": 22,
   "id": "36818c14",
   "metadata": {},
   "outputs": [
    {
     "name": "stdout",
     "output_type": "stream",
     "text": [
      "state\n",
      "Uttar Pradesh          11\n",
      "Tamil Nadu             10\n",
      "West Bengal             9\n",
      "Telangana               9\n",
      "Andhra Pradesh          8\n",
      "Madhya Pradesh          8\n",
      "Gujarat                 8\n",
      "Kerala                  8\n",
      "Odisha                  7\n",
      "Jammu & Kashmir         6\n",
      "Maharashtra             6\n",
      "Rajasthan               5\n",
      "Punjab                  5\n",
      "Assam                   5\n",
      "Karnataka               5\n",
      "Delhi                   4\n",
      "Uttarakhand             3\n",
      "Bihar                   3\n",
      "Chhattisgarh            3\n",
      "Himachal Pradesh        2\n",
      "Others                  2\n",
      "Mumbai                  1\n",
      "State Bank Of India     1\n",
      "Arunachal Pradesh       1\n",
      "Chandigarh              1\n",
      "Up                      1\n",
      "Goa                     1\n",
      "MAHARASHTRA             1\n",
      "Haryana                 1\n",
      "odisha                  1\n",
      "punjab                  1\n",
      "seoni                   1\n",
      "dtype: int64\n"
     ]
    }
   ],
   "source": [
    "statewise_orders = meesho.groupby('state').size().sort_values(ascending=False)\n",
    "print(statewise_orders)"
   ]
  },
  {
   "cell_type": "markdown",
   "id": "e65c7cd1",
   "metadata": {},
   "source": [
    "# Plotting the bar plot"
   ]
  },
  {
   "cell_type": "code",
   "execution_count": 26,
   "id": "4cfab998",
   "metadata": {},
   "outputs": [
    {
     "data": {
      "image/png": "[encoded data removed]",
      "text/plain": [
       "<Figure size 1000x800 with 1 Axes>"
      ]
     },
     "metadata": {},
     "output_type": "display_data"
    }
   ],
   "source": [
    "plt.figure(figsize=(10, 8))\n",
    "statewise_orders.plot(kind='bar', color='skyblue')\n",
    "plt.title('State-wise Distribution of Orders')\n",
    "plt.xlabel('State')\n",
    "plt.ylabel('Number of Orders')\n",
    "plt.xticks(rotation=90)\n",
    "plt.tight_layout()\n",
    "plt.show()"
   ]
  },
  {
   "cell_type": "markdown",
   "id": "1ac7f8ee",
   "metadata": {},
   "source": [
    "# Analysis of GST amount"
   ]
  },
  {
   "cell_type": "code",
   "execution_count": 27,
   "id": "9c1be511",
   "metadata": {},
   "outputs": [
    {
     "name": "stdout",
     "output_type": "stream",
     "text": [
      "8558.14\n"
     ]
    }
   ],
   "source": [
    "print(meesho['gst_amount'].sum())"
   ]
  },
  {
   "cell_type": "markdown",
   "id": "c782b265",
   "metadata": {},
   "source": [
    "# Analysis of shipping charges\n",
    "\n"
   ]
  },
  {
   "cell_type": "code",
   "execution_count": 30,
   "id": "30d92b29",
   "metadata": {},
   "outputs": [
    {
     "name": "stdout",
     "output_type": "stream",
     "text": [
      "69.67\n"
     ]
    }
   ],
   "source": [
    "mean_shipping_charges = meesho['shipping_charges_total'].mean()\n",
    "print('{:.2f}'.format(mean_shipping_charges))"
   ]
  },
  {
   "cell_type": "markdown",
   "id": "439a0c35",
   "metadata": {},
   "source": [
    "# Average GST per order"
   ]
  },
  {
   "cell_type": "code",
   "execution_count": 33,
   "id": "a8659a2b",
   "metadata": {},
   "outputs": [
    {
     "name": "stdout",
     "output_type": "stream",
     "text": [
      "Average GST per order: 62.01550724637681\n"
     ]
    }
   ],
   "source": [
    "average_gst_per_order = meesho['gst_amount'].sum() / len(meesho)\n",
    "print(\"Average GST per order:\", average_gst_per_order)"
   ]
  },
  {
   "cell_type": "markdown",
   "id": "623d80a8",
   "metadata": {},
   "source": [
    "# Percentage of revenue from GST"
   ]
  },
  {
   "cell_type": "code",
   "execution_count": 34,
   "id": "77a092e8",
   "metadata": {},
   "outputs": [
    {
     "name": "stdout",
     "output_type": "stream",
     "text": [
      "Percentage of revenue from GST: 4.56%\n"
     ]
    }
   ],
   "source": [
    "total_revenue = meesho['price'].sum()\n",
    "percentage_of_revenue_from_gst = (meesho['gst_amount'].sum() / total_revenue) * 100\n",
    "print(\"Percentage of revenue from GST: {:.2f}%\".format(percentage_of_revenue_from_gst))"
   ]
  },
  {
   "cell_type": "markdown",
   "id": "0e89904d",
   "metadata": {},
   "source": [
    "# Analysis of Shipping Charges:"
   ]
  },
  {
   "cell_type": "code",
   "execution_count": 41,
   "id": "7114b62a",
   "metadata": {},
   "outputs": [
    {
     "data": {
      "text/html": [
       "<div>\n",
       "<style scoped>\n",
       "    .dataframe tbody tr th:only-of-type {\n",
       "        vertical-align: middle;\n",
       "    }\n",
       "\n",
       "    .dataframe tbody tr th {\n",
       "        vertical-align: top;\n",
       "    }\n",
       "\n",
       "    .dataframe thead th {\n",
       "        text-align: right;\n",
       "    }\n",
       "</style>\n",
       "<table border=\"1\" class=\"dataframe\">\n",
       "  <thead>\n",
       "    <tr style=\"text-align: right;\">\n",
       "      <th></th>\n",
       "      <th>count</th>\n",
       "    </tr>\n",
       "    <tr>\n",
       "      <th>shipping_charges_total</th>\n",
       "      <th></th>\n",
       "    </tr>\n",
       "  </thead>\n",
       "  <tbody>\n",
       "    <tr>\n",
       "      <th>0</th>\n",
       "      <td>50</td>\n",
       "    </tr>\n",
       "    <tr>\n",
       "      <th>114</th>\n",
       "      <td>35</td>\n",
       "    </tr>\n",
       "    <tr>\n",
       "      <th>110</th>\n",
       "      <td>14</td>\n",
       "    </tr>\n",
       "    <tr>\n",
       "      <th>81</th>\n",
       "      <td>10</td>\n",
       "    </tr>\n",
       "    <tr>\n",
       "      <th>108</th>\n",
       "      <td>8</td>\n",
       "    </tr>\n",
       "    <tr>\n",
       "      <th>148</th>\n",
       "      <td>3</td>\n",
       "    </tr>\n",
       "    <tr>\n",
       "      <th>105</th>\n",
       "      <td>2</td>\n",
       "    </tr>\n",
       "    <tr>\n",
       "      <th>79</th>\n",
       "      <td>2</td>\n",
       "    </tr>\n",
       "    <tr>\n",
       "      <th>140</th>\n",
       "      <td>2</td>\n",
       "    </tr>\n",
       "    <tr>\n",
       "      <th>125</th>\n",
       "      <td>2</td>\n",
       "    </tr>\n",
       "    <tr>\n",
       "      <th>122</th>\n",
       "      <td>1</td>\n",
       "    </tr>\n",
       "    <tr>\n",
       "      <th>72</th>\n",
       "      <td>1</td>\n",
       "    </tr>\n",
       "    <tr>\n",
       "      <th>120</th>\n",
       "      <td>1</td>\n",
       "    </tr>\n",
       "    <tr>\n",
       "      <th>83</th>\n",
       "      <td>1</td>\n",
       "    </tr>\n",
       "    <tr>\n",
       "      <th>121</th>\n",
       "      <td>1</td>\n",
       "    </tr>\n",
       "    <tr>\n",
       "      <th>117</th>\n",
       "      <td>1</td>\n",
       "    </tr>\n",
       "    <tr>\n",
       "      <th>101</th>\n",
       "      <td>1</td>\n",
       "    </tr>\n",
       "    <tr>\n",
       "      <th>94</th>\n",
       "      <td>1</td>\n",
       "    </tr>\n",
       "    <tr>\n",
       "      <th>123</th>\n",
       "      <td>1</td>\n",
       "    </tr>\n",
       "    <tr>\n",
       "      <th>116</th>\n",
       "      <td>1</td>\n",
       "    </tr>\n",
       "  </tbody>\n",
       "</table>\n",
       "</div>"
      ],
      "text/plain": [
       "                        count\n",
       "shipping_charges_total       \n",
       "0                          50\n",
       "114                        35\n",
       "110                        14\n",
       "81                         10\n",
       "108                         8\n",
       "148                         3\n",
       "105                         2\n",
       "79                          2\n",
       "140                         2\n",
       "125                         2\n",
       "122                         1\n",
       "72                          1\n",
       "120                         1\n",
       "83                          1\n",
       "121                         1\n",
       "117                         1\n",
       "101                         1\n",
       "94                          1\n",
       "123                         1\n",
       "116                         1"
      ]
     },
     "execution_count": 41,
     "metadata": {},
     "output_type": "execute_result"
    }
   ],
   "source": [
    "shiping_charges=meesho[\"shipping_charges_total\"].value_counts()\n",
    "pd.DataFrame(shiping_charges)"
   ]
  },
  {
   "cell_type": "code",
   "execution_count": 35,
   "id": "aa9e0563",
   "metadata": {},
   "outputs": [
    {
     "data": {
      "image/png": "[encoded data removed]",
      "text/plain": [
       "<Figure size 800x600 with 1 Axes>"
      ]
     },
     "metadata": {},
     "output_type": "display_data"
    }
   ],
   "source": [
    "plt.figure(figsize=(8, 6))\n",
    "plt.hist(meesho['shipping_charges_total'], bins=20, color='skyblue', edgecolor='black')\n",
    "plt.title('Distribution of Shipping Charges')\n",
    "plt.xlabel('Shipping Charges')\n",
    "plt.ylabel('Frequency')\n",
    "plt.show()"
   ]
  },
  {
   "cell_type": "code",
   "execution_count": 75,
   "id": "bb9c6009",
   "metadata": {},
   "outputs": [
    {
     "data": {
      "text/html": [
       "<div>\n",
       "<style scoped>\n",
       "    .dataframe tbody tr th:only-of-type {\n",
       "        vertical-align: middle;\n",
       "    }\n",
       "\n",
       "    .dataframe tbody tr th {\n",
       "        vertical-align: top;\n",
       "    }\n",
       "\n",
       "    .dataframe thead th {\n",
       "        text-align: right;\n",
       "    }\n",
       "</style>\n",
       "<table border=\"1\" class=\"dataframe\">\n",
       "  <thead>\n",
       "    <tr style=\"text-align: right;\">\n",
       "      <th></th>\n",
       "      <th>order_date</th>\n",
       "      <th>sub_order_num</th>\n",
       "      <th>order_status</th>\n",
       "      <th>state</th>\n",
       "      <th>pin</th>\n",
       "      <th>gst_amount</th>\n",
       "      <th>meesho_price</th>\n",
       "      <th>shipping_charges_total</th>\n",
       "      <th>price</th>\n",
       "      <th>year</th>\n",
       "      <th>month</th>\n",
       "      <th>day</th>\n",
       "      <th>day_of_week</th>\n",
       "    </tr>\n",
       "  </thead>\n",
       "  <tbody>\n",
       "    <tr>\n",
       "      <th>0</th>\n",
       "      <td>2022-08-30</td>\n",
       "      <td>381809810413_1</td>\n",
       "      <td>Shipped</td>\n",
       "      <td>Jammu &amp; Kashmir</td>\n",
       "      <td>180006</td>\n",
       "      <td>66.68</td>\n",
       "      <td>1400</td>\n",
       "      <td>121</td>\n",
       "      <td>1521</td>\n",
       "      <td>2022</td>\n",
       "      <td>8</td>\n",
       "      <td>30</td>\n",
       "      <td>1</td>\n",
       "    </tr>\n",
       "    <tr>\n",
       "      <th>1</th>\n",
       "      <td>2022-08-10</td>\n",
       "      <td>940712900368_1</td>\n",
       "      <td>rto</td>\n",
       "      <td>Uttar Pradesh</td>\n",
       "      <td>208014</td>\n",
       "      <td>69.58</td>\n",
       "      <td>1461</td>\n",
       "      <td>114</td>\n",
       "      <td>1575</td>\n",
       "      <td>2022</td>\n",
       "      <td>8</td>\n",
       "      <td>10</td>\n",
       "      <td>2</td>\n",
       "    </tr>\n",
       "  </tbody>\n",
       "</table>\n",
       "</div>"
      ],
      "text/plain": [
       "  order_date   sub_order_num order_status            state     pin  \\\n",
       "0 2022-08-30  381809810413_1      Shipped  Jammu & Kashmir  180006   \n",
       "1 2022-08-10  940712900368_1          rto    Uttar Pradesh  208014   \n",
       "\n",
       "   gst_amount  meesho_price  shipping_charges_total  price  year  month  day  \\\n",
       "0       66.68          1400                     121   1521  2022      8   30   \n",
       "1       69.58          1461                     114   1575  2022      8   10   \n",
       "\n",
       "   day_of_week  \n",
       "0            1  \n",
       "1            2  "
      ]
     },
     "execution_count": 75,
     "metadata": {},
     "output_type": "execute_result"
    }
   ],
   "source": [
    "meesho.head(2)"
   ]
  },
  {
   "cell_type": "code",
   "execution_count": null,
   "id": "3fc9566e",
   "metadata": {},
   "outputs": [],
   "source": []
  },
  {
   "cell_type": "code",
   "execution_count": null,
   "id": "605d9f06",
   "metadata": {},
   "outputs": [],
   "source": []
  }
 ],
 "metadata": {
  "kernelspec": {
   "display_name": "Python 3 (ipykernel)",
   "language": "python",
   "name": "python3"
  },
  "language_info": {
   "codemirror_mode": {
    "name": "ipython",
    "version": 3
   },
   "file_extension": ".py",
   "mimetype": "text/x-python",
   "name": "python",
   "nbconvert_exporter": "python",
   "pygments_lexer": "ipython3",
   "version": "3.11.5"
  },
  "varInspector": {
   "cols": {
    "lenName": 16,
    "lenType": 16,
    "lenVar": 40
   },
   "kernels_config": {
    "python": {
     "delete_cmd_postfix": "",
     "delete_cmd_prefix": "del ",
     "library": "var_list.py",
     "varRefreshCmd": "print(var_dic_list())"
    },
    "r": {
     "delete_cmd_postfix": ") ",
     "delete_cmd_prefix": "rm(",
     "library": "var_list.r",
     "varRefreshCmd": "cat(var_dic_list()) "
    }
   },
   "types_to_exclude": [
    "module",
    "function",
    "builtin_function_or_method",
    "instance",
    "_Feature"
   ],
   "window_display": false
  }
 },
 "nbformat": 4,
 "nbformat_minor": 5
}
